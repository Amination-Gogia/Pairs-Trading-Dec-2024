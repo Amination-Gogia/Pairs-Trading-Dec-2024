{
 "cells": [
  {
   "cell_type": "code",
   "execution_count": 114,
   "metadata": {},
   "outputs": [],
   "source": [
    "import numpy as np\n",
    "from datetime import datetime\n",
    "import pandas as pd\n",
    "import statsmodels.tsa.stattools as ts\n",
    "import statsmodels.api as sm\n",
    "import matplotlib.pyplot as plt\n",
    "import seaborn as sns\n",
    "import ffn\n",
    "import warnings\n",
    "warnings.filterwarnings('ignore')"
   ]
  },
  {
   "cell_type": "code",
   "execution_count": 115,
   "metadata": {},
   "outputs": [],
   "source": [
    "from pykalman import KalmanFilter"
   ]
  },
  {
   "cell_type": "code",
   "execution_count": 116,
   "metadata": {},
   "outputs": [],
   "source": [
    "def adf_test_spread(x, y): ## a stationarity test, of the residual of stock prices x and y\n",
    "    df = pd.DataFrame({'x': x, 'y' : y})\n",
    "    est = sm.OLS(df.y, df.x) ## OLS = Ordinary Least Squares, for linear regression\n",
    "    est.fit()\n",
    "    df['hedge_ratio'] = est.params[0]\n",
    "    df['intercept'] = est.params[1]\n",
    "    df['spread'] = df.y - df.x * df.hedge_ratio - df.intercept\n",
    "    res = ts.adfuller(df['spread'])\n",
    "    return res[1]"
   ]
  },
  {
   "cell_type": "code",
   "execution_count": 117,
   "metadata": {},
   "outputs": [],
   "source": [
    "from numpy import log, polyfit, sqrt, std, subtract"
   ]
  },
  {
   "cell_type": "code",
   "execution_count": 118,
   "metadata": {},
   "outputs": [],
   "source": [
    "def hurst_test(time_ser):\n",
    "    lags = [i for i in range(2, 200)]\n",
    "    tau = [(std(subtract(ts[lag:], ts[:-lag]))) for lag in lags] ## Root(Variance) = std_dev\n",
    "    poly = polyfit(log(lags), log(tau), 1) ## np.polyfit(x, y, deg), linear regression to find slope\n",
    "    return poly[0] ## Return value is an array of coeffecients in descending order of powers, poly[0] is the slope"
   ]
  },
  {
   "cell_type": "code",
   "execution_count": 119,
   "metadata": {},
   "outputs": [],
   "source": [
    "def half_life_spread(x):\n",
    "    \n",
    "    x_lag = x.shift(1)\n",
    "    x_lag.iloc[0] = x_lag.iloc[1]\n",
    "    diff = x - x_lag\n",
    "    diff.iloc[0] = diff.iloc[1]\n",
    "    \n",
    "    x_lag_2 = sm.add_constant(x_lag)\n",
    "    est = sm.OLS(diff, x_lag_2)\n",
    "    res = est.fit()\n",
    "\n",
    "    half_life = int(round(-np.log(2) / res.params[1],0))\n",
    "    if half_life <= 0:\n",
    "        half_life = 1\n",
    "    return half_life"
   ]
  },
  {
   "cell_type": "code",
   "execution_count": 120,
   "metadata": {},
   "outputs": [],
   "source": [
    "def KF_Avg(x):\n",
    "    \"\"\"Smoothens a stock price series, removing all possible noise\"\"\"\n",
    "    kf = KalmanFilter(transition_matrices = [1], ## System Model: priori_price_on_next_day = price_on_last_day\n",
    "                      observation_matrices = [1], ## Measuring stock price on the next day\n",
    "                      initial_state_mean = 0,\n",
    "                      initial_state_covariance = 1,\n",
    "                      observation_covariance=1,\n",
    "                      transition_covariance=.01)\n",
    "    state_means, state_covs = kf.filter(x.values) ## x is assumed to be sequential measurements of the stock price\n",
    "    state_means = pd.Series(state_means.flatten(), index=x.index)\n",
    "    return state_means"
   ]
  },
  {
   "cell_type": "code",
   "execution_count": 121,
   "metadata": {},
   "outputs": [],
   "source": [
    "def KF_linear_regression(x, y):\n",
    "    \"\"\"Uses a Kalman Filter to determine the linear regression parameters for stocks x and y\"\"\"\n",
    "    delta = 1e-3\n",
    "    trans_cov = delta / (1 - delta) * np.eye(2) # How much random walk wiggles\n",
    "    obs_mat = np.expand_dims(np.vstack([[x], [np.ones(len(x))]]).T, axis=1)\n",
    "\n",
    "    ## alpha is intercept, beta is the slope\n",
    "\n",
    "    kf = KalmanFilter(n_dim_obs=1, n_dim_state=2, # y (obs) is 1-dimensional, (beta, alpha) (state) is 2-dimensional\n",
    "                      initial_state_mean=[0,0],\n",
    "                      initial_state_covariance = np.ones((2, 2)),\n",
    "                      transition_matrices = np.eye(2), ## priori params = previous_day_params\n",
    "                      observation_matrices = obs_mat, ## H of each iteration of the kf algo ** (the observation matrix is not static)\n",
    "                      observation_covariance = 2, ## 2\n",
    "                      transition_covariance = trans_cov)\n",
    "    \n",
    "    state_means, state_covs = kf.filter(y.values)\n",
    "    return state_means"
   ]
  },
  {
   "cell_type": "code",
   "execution_count": 122,
   "metadata": {},
   "outputs": [],
   "source": [
    "def backtest(x, y, allowed_drawdown = 0.05, stop_loss = 0.05):\n",
    "    df1 = pd.DataFrame({'y':y,'x':x})\n",
    "    state_means = KF_linear_regression(KF_Avg(x), KF_Avg(y))\n",
    "\n",
    "    df1['hr'] = state_means[:,0] ## The hedge ratio\n",
    "    df1['intercept'] = state_means[:, 1]\n",
    "    df1['spread'] = df1.y - (df1.x * df1.hr) ##- df1.intercept\n",
    "\n",
    "    halflife = half_life_spread(df1['spread'])\n",
    "\n",
    "    meanSpread = df1.spread.rolling(window= 1 * halflife).mean()\n",
    "    stdSpread = df1.spread.rolling(window= 1 * halflife).std()\n",
    "\n",
    "    df1['zScore'] = (df1.spread-meanSpread)/stdSpread\n",
    "    entryZscore = 2\n",
    "    exitZscore = 0\n",
    "\n",
    "    df1['long entry'] = ((df1.zScore < - entryZscore) & ( df1.zScore.shift(1) > - entryZscore))\n",
    "    df1['long exit'] = ((df1.zScore > - exitZscore) & ( df1.zScore.shift(1) < - exitZscore))\n",
    "    df1['num units long'] = np.nan\n",
    "    df1.loc[df1['long entry'],'num units long'] = 1 ## num units long updated for the indices where df1['long entry'] is true\n",
    "    df1.loc[df1['long exit'],'num units long'] = 0\n",
    "    df1['num units long'][0] = 0\n",
    "    df1['num units long'] = df1['num units long'].fillna(method='pad') ## each NaN filled with the prev non-NaN value\n",
    "\n",
    "\n",
    "    df1['short entry'] = ((df1.zScore > entryZscore) & ( df1.zScore.shift(1) <  entryZscore))\n",
    "    df1['short exit'] = ((df1.zScore < exitZscore) & ( df1.zScore.shift(1) >  exitZscore))\n",
    "    df1['num units short'] = np.nan\n",
    "    df1.loc[df1['short entry'],'num units short'] = -1 ## num units short updated for the indices where df1['short entry'] is true\n",
    "    df1.loc[df1['short exit'],'num units short'] = 0\n",
    "    df1['num units short'][0] = 0\n",
    "    df1['num units short'] = df1['num units short'].fillna(method='pad') ## each NaN filled with the prev non-NaN value\n",
    "\n",
    "    df1['numUnits'] = df1['num units long'] + df1['num units short']\n",
    "    df1['spread_pct_chg'] = df1.spread.diff()/df1.spread\n",
    "    df1['port rets'] = df1['spread_pct_chg'] * df1['numUnits'].shift(1)\n",
    "\n",
    "    df1['cum rets'] = df1['port rets'].cumsum()\n",
    "    df1['cum rets'] = df1['cum rets'] + 1\n",
    "\n",
    "    \n",
    "\n",
    "    df1['drawdown'] = ffn.to_drawdown_series(df1['cum rets'])\n",
    "    idx = (df1['drawdown'] < - allowed_drawdown) | (df1['cum rets'] < 1 - stop_loss)\n",
    "    \n",
    "    first_idx = idx.idxmax() if idx.any() else None\n",
    "\n",
    "    if first_idx is not None:\n",
    "        df1.loc[first_idx:, 'cum rets'] = np.nan\n",
    "        df1.loc[first_idx:, 'port_rets'] = 0\n",
    "\n",
    "    df1['cum rets'] = df1['cum rets'].fillna(method='pad')\n",
    "\n",
    "    try:\n",
    "        sharpe = ((df1['port rets'].mean() / df1['port rets'].std()) * sqrt(252))\n",
    "    except ZeroDivisionError:\n",
    "        sharpe = 0.0\n",
    "\n",
    "    return df1['cum rets'], sharpe\n"
   ]
  },
  {
   "cell_type": "code",
   "execution_count": 123,
   "metadata": {},
   "outputs": [],
   "source": [
    "def find_coint_pairs(df, critical_val = 0.05):\n",
    "    n = df.shape[1] ## Number of different stocks\n",
    "    p_value_mat = np.zeros((n, n))\n",
    "\n",
    "    stocks = df.keys()\n",
    "    feasible_pairs = []\n",
    "    for i in range(0, n):\n",
    "        s1 = df[stocks[i]]\n",
    "        for j in range(i + 1, n):\n",
    "            s2 = df[stocks[j]]\n",
    "            \n",
    "            p_val = (ts.coint(s1, s2))[1]\n",
    "\n",
    "            p_value_mat[i, j] = p_val\n",
    "            if p_val < critical_val: ## The pair is cointegrated\n",
    "                row = [stocks[i], stocks[j], p_val]\n",
    "                feasible_pairs.append(row)\n",
    "    feasible_pairs = pd.DataFrame(feasible_pairs, columns = ['S1', 'S2', 'Pvalue'])\n",
    "    return p_value_mat, feasible_pairs"
   ]
  },
  {
   "cell_type": "code",
   "execution_count": 124,
   "metadata": {},
   "outputs": [],
   "source": [
    "df = pd.read_csv('it_train.csv', parse_dates=True, index_col='Date')"
   ]
  },
  {
   "cell_type": "code",
   "execution_count": 125,
   "metadata": {},
   "outputs": [
    {
     "data": {
      "text/plain": [
       "DatetimeIndex(['2022-01-03', '2022-01-04', '2022-01-05', '2022-01-06',\n",
       "               '2022-01-07', '2022-01-10', '2022-01-11', '2022-01-12',\n",
       "               '2022-01-13', '2022-01-14',\n",
       "               ...\n",
       "               '2024-12-09', '2024-12-10', '2024-12-11', '2024-12-12',\n",
       "               '2024-12-13', '2024-12-16', '2024-12-17', '2024-12-18',\n",
       "               '2024-12-19', '2024-12-20'],\n",
       "              dtype='datetime64[ns]', name='Date', length=733, freq=None)"
      ]
     },
     "execution_count": 125,
     "metadata": {},
     "output_type": "execute_result"
    }
   ],
   "source": [
    "df.index"
   ]
  },
  {
   "cell_type": "code",
   "execution_count": 126,
   "metadata": {},
   "outputs": [],
   "source": [
    "from datetime import time, timedelta\n",
    "from dateutil.relativedelta import relativedelta"
   ]
  },
  {
   "cell_type": "code",
   "execution_count": 136,
   "metadata": {},
   "outputs": [
    {
     "name": "stdout",
     "output_type": "stream",
     "text": [
      "2022-01-01 00:00:00\n",
      "2022-02-01 00:00:00\n",
      "2022-03-01 00:00:00\n",
      "2022-04-01 00:00:00\n",
      "2022-05-01 00:00:00\n",
      "2022-06-01 00:00:00\n",
      "2022-07-01 00:00:00\n",
      "2022-08-01 00:00:00\n",
      "2022-09-01 00:00:00\n",
      "2022-10-01 00:00:00\n",
      "2022-11-01 00:00:00\n",
      "2022-12-01 00:00:00\n",
      "2023-01-01 00:00:00\n",
      "2023-02-01 00:00:00\n",
      "2023-03-01 00:00:00\n",
      "2023-04-01 00:00:00\n",
      "2023-05-01 00:00:00\n",
      "2023-06-01 00:00:00\n",
      "2023-07-01 00:00:00\n",
      "2023-08-01 00:00:00\n",
      "2023-09-01 00:00:00\n",
      "2023-10-01 00:00:00\n",
      "2023-11-01 00:00:00\n",
      "2023-12-01 00:00:00\n",
      "2024-01-01 00:00:00\n",
      "2024-02-01 00:00:00\n",
      "2024-03-01 00:00:00\n",
      "2024-04-01 00:00:00\n",
      "2024-05-01 00:00:00\n",
      "2024-06-01 00:00:00\n",
      "2024-07-01 00:00:00\n"
     ]
    }
   ],
   "source": [
    "start_check = datetime(2022, 1, 1)\n",
    "end_check = start_check + relativedelta(months=6)\n",
    "\n",
    "results_dict_list = []\n",
    "\n",
    "while end_check <= datetime(2025,1, 1):\n",
    "    print(start_check)\n",
    "    _, poss_pairs = find_coint_pairs(df.loc[start_check: end_check])\n",
    "    for pair in poss_pairs.values:\n",
    "        # print(pair)\n",
    "        res = backtest(df.loc[end_check - relativedelta(months = 1) : end_check + relativedelta(months = 1)][pair[0]]\n",
    "                       , df.loc[end_check - relativedelta(months = 1) : end_check + relativedelta(months = 1)][pair[1]],\n",
    "                       allowed_drawdown=0.2, stop_loss=0.10)\n",
    "        res_dict = {'pair' : pair[0:2], 'sharpe' : res[1], 'returns' : res[0], 'p_val' : pair[2]}\n",
    "        results_dict_list.append(res_dict)\n",
    "    start_check += relativedelta(months = 1)\n",
    "    end_check = start_check + relativedelta(months=6)\n"
   ]
  },
  {
   "cell_type": "code",
   "execution_count": 128,
   "metadata": {},
   "outputs": [
    {
     "data": {
      "image/png": "[encoded data removed]",
      "text/plain": [
       "<Figure size 640x480 with 1 Axes>"
      ]
     },
     "metadata": {},
     "output_type": "display_data"
    }
   ],
   "source": [
    "for r in results_dict_list:\n",
    "    r['returns'].plot()"
   ]
  },
  {
   "cell_type": "code",
   "execution_count": 138,
   "metadata": {},
   "outputs": [
    {
     "name": "stdout",
     "output_type": "stream",
     "text": [
      "1.0, 0.001084368260320736\n",
      "1.0, 0.04914671991574173\n",
      "1.0, 0.004172792199254238\n",
      "1.0, 0.005477078583642123\n",
      "1.0, 0.037733990666677174\n",
      "1.311180229291263, 0.046140901095431286\n",
      "1.0, 0.036317528059050086\n",
      "1.0, 0.006139651432674467\n",
      "1.0, 0.03381642186169774\n",
      "1.0, 0.00969476236619963\n",
      "1.0, 0.012573377270312061\n",
      "1.0, 0.04977271596460818\n",
      "1.0, 0.0012771557473159245\n",
      "1.0, 0.01623590088070966\n",
      "1.0, 0.004295722194363454\n",
      "1.0, 0.0027924984967308037\n",
      "1.0, 0.0158754476482912\n",
      "1.0, 0.04107483643206186\n",
      "1.0, 0.002978277661606787\n",
      "1.0, 0.03057278870139921\n",
      "1.0, 0.036949216105368374\n",
      "1.0, 0.009306514282359048\n",
      "1.0, 0.0455883495449549\n",
      "1.0, 0.008097057147234951\n",
      "1.1813018255911591, 0.041252134044576214\n",
      "1.43400237823082, 0.030312743238439018\n",
      "1.1254397843554373, 0.0028559141523455296\n",
      "1.0, 0.010419678395638622\n",
      "1.0, 0.015139131282062413\n",
      "1.0, 0.012317172508408919\n",
      "1.193100041092943, 0.020603911924869853\n",
      "1.0, 0.0007624527110544316\n",
      "1.0, 0.023259692660614496\n",
      "1.0, 0.001871801896849473\n",
      "1.0, 0.02517871270050543\n",
      "1.0, 0.0036143392178871114\n",
      "1.0, 0.007199076469697779\n",
      "1.0, 0.00126031753013859\n",
      "1.0, 0.004571242032850325\n",
      "1.0, 0.023179835324172268\n",
      "1.0, 0.0010491593978067142\n",
      "1.0, 0.0027412682572761395\n",
      "1.0, 0.0005313704910784011\n",
      "1.0, 0.00101649348248224\n",
      "1.0, 0.02218117600260656\n",
      "1.0, 0.04504913508355824\n",
      "1.0, 0.006925904192318436\n",
      "1.0, 0.03344605150279888\n",
      "1.0, 0.026594459897179942\n",
      "1.0, 0.01714328281309835\n",
      "1.0, 0.01423073942116658\n",
      "1.0, 0.04062440911792332\n",
      "1.0, 0.03561766537347688\n",
      "1.0, 0.00794500481184899\n",
      "1.0, 0.010393321267565828\n",
      "1.0, 0.004506484992437003\n",
      "1.0, 0.006414936449960153\n",
      "1.0, 0.0068595680569313675\n",
      "1.0, 0.0372775910051552\n"
     ]
    }
   ],
   "source": [
    "for r in results_dict_list:\n",
    "    print(f'{r['returns'][-1]}, {r['p_val']}')\n"
   ]
  },
  {
   "cell_type": "code",
   "execution_count": 129,
   "metadata": {},
   "outputs": [
    {
     "name": "stdout",
     "output_type": "stream",
     "text": [
      "No. of profitable positions: 6, avg_profit = 1.0652041437547006\n",
      "No. of loss-making positions: 1, avg_loss = -0.08860793062346417\n",
      "No. of positions with no-change/no trading opportunities: 87\n"
     ]
    }
   ],
   "source": [
    "prof_count = 0\n",
    "prof = 0\n",
    "loss_count = 0\n",
    "loss = 0\n",
    "for t in results_dict_list:\n",
    "    \n",
    "    x = t['returns'][-1] - 1\n",
    "    if x > 0:\n",
    "        prof_count += 1\n",
    "        prof += x\n",
    "    elif x < 0:\n",
    "        loss_count += 1\n",
    "        loss += x\n",
    "print(f'No. of profitable positions: {prof_count}, avg_profit = {prof/prof_count}')\n",
    "print(f'No. of loss-making positions: {loss_count}, avg_loss = {loss/loss_count if loss_count else 0}')\n",
    "print(f'No. of positions with no-change/no trading opportunities: {len(results_dict_list) - prof_count - loss_count}')"
   ]
  },
  {
   "cell_type": "code",
   "execution_count": 130,
   "metadata": {},
   "outputs": [],
   "source": [
    "df = pd.read_csv('bank_test_5yr.csv', index_col='Date', parse_dates=True)"
   ]
  },
  {
   "cell_type": "code",
   "execution_count": 131,
   "metadata": {},
   "outputs": [
    {
     "name": "stdout",
     "output_type": "stream",
     "text": [
      "2022-03-01 00:00:00\n",
      "2022-05-01 00:00:00\n",
      "2022-07-01 00:00:00\n",
      "2022-09-01 00:00:00\n",
      "2022-11-01 00:00:00\n",
      "2023-01-01 00:00:00\n",
      "2023-03-01 00:00:00\n",
      "2023-05-01 00:00:00\n",
      "2023-07-01 00:00:00\n",
      "2023-09-01 00:00:00\n",
      "2023-11-01 00:00:00\n",
      "2024-01-01 00:00:00\n",
      "2024-03-01 00:00:00\n",
      "2024-05-01 00:00:00\n",
      "2024-07-01 00:00:00\n"
     ]
    }
   ],
   "source": [
    "start_check = datetime(2022, 3, 1)\n",
    "end_check = start_check + relativedelta(months=6)\n",
    "\n",
    "results_dict_list = []\n",
    "\n",
    "while end_check <= datetime(2025,1, 1):\n",
    "    print(start_check)\n",
    "    _, poss_pairs = find_coint_pairs(df.loc[start_check: end_check])\n",
    "    for pair in poss_pairs.values:\n",
    "        # print(pair)\n",
    "        res = backtest(df.loc[end_check - relativedelta(months = 1) : end_check + relativedelta(months = 2)][pair[0]]\n",
    "                       , df.loc[end_check - relativedelta(months = 1) : end_check + relativedelta(months = 2)][pair[1]],\n",
    "                       allowed_drawdown= 0.20, stop_loss=0.1)\n",
    "        res_dict = {'pair' : pair[0:2], 'sharpe' : res[1], 'returns' : res[0]}\n",
    "        results_dict_list.append(res_dict)\n",
    "    start_check += relativedelta(months = 2)\n",
    "    end_check = start_check + relativedelta(months=6)\n"
   ]
  },
  {
   "cell_type": "code",
   "execution_count": 132,
   "metadata": {},
   "outputs": [
    {
     "data": {
      "image/png": "[encoded data removed]",
      "text/plain": [
       "<Figure size 640x480 with 1 Axes>"
      ]
     },
     "metadata": {},
     "output_type": "display_data"
    }
   ],
   "source": [
    "for r in results_dict_list:\n",
    "    r['returns'].plot()"
   ]
  },
  {
   "cell_type": "code",
   "execution_count": 133,
   "metadata": {},
   "outputs": [
    {
     "name": "stdout",
     "output_type": "stream",
     "text": [
      "No. of profitable positions: 4, avg_profit = 1.8656130942828661\n",
      "No. of loss-making positions: 0, avg_loss = 0\n",
      "No. of positions with no-change/no trading opportunities: 26\n"
     ]
    }
   ],
   "source": [
    "prof_count = 0\n",
    "prof = 0\n",
    "loss_count = 0\n",
    "loss = 0\n",
    "for t in results_dict_list:\n",
    "    \n",
    "    x = t['returns'][-1] - 1\n",
    "    if x > 0:\n",
    "        prof_count += 1\n",
    "        prof += x\n",
    "    elif x < 0:\n",
    "        loss_count += 1\n",
    "        loss += x\n",
    "print(f'No. of profitable positions: {prof_count}, avg_profit = {prof/prof_count}')\n",
    "print(f'No. of loss-making positions: {loss_count}, avg_loss = {loss/loss_count if loss_count else 0}')\n",
    "print(f'No. of positions with no-change/no trading opportunities: {len(results_dict_list) - prof_count - loss_count}')"
   ]
  },
  {
   "cell_type": "code",
   "execution_count": 135,
   "metadata": {},
   "outputs": [
    {
     "data": {
      "text/plain": [
       "0.24874841257104882"
      ]
     },
     "execution_count": 135,
     "metadata": {},
     "output_type": "execute_result"
    }
   ],
   "source": [
    "(prof + loss)/len(results_dict_list)"
   ]
  }
 ],
 "metadata": {
  "kernelspec": {
   "display_name": "Python 3",
   "language": "python",
   "name": "python3"
  },
  "language_info": {
   "codemirror_mode": {
    "name": "ipython",
    "version": 3
   },
   "file_extension": ".py",
   "mimetype": "text/x-python",
   "name": "python",
   "nbconvert_exporter": "python",
   "pygments_lexer": "ipython3",
   "version": "3.12.0"
  }
 },
 "nbformat": 4,
 "nbformat_minor": 2
}
