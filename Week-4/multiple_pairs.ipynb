{
 "cells": [
  {
   "cell_type": "code",
   "execution_count": 220,
   "metadata": {},
   "outputs": [],
   "source": [
    "import numpy as np\n",
    "from datetime import datetime\n",
    "import pandas as pd\n",
    "import statsmodels.tsa.stattools as ts\n",
    "import statsmodels.api as sm\n",
    "import matplotlib.pyplot as plt\n",
    "import seaborn as sns\n",
    "import ffn\n",
    "import warnings\n",
    "warnings.filterwarnings('ignore')"
   ]
  },
  {
   "cell_type": "code",
   "execution_count": 221,
   "metadata": {},
   "outputs": [],
   "source": [
    "from pykalman import KalmanFilter"
   ]
  },
  {
   "cell_type": "code",
   "execution_count": 222,
   "metadata": {},
   "outputs": [],
   "source": [
    "def adf_test_spread(x, y): ## a stationarity test, of the residual of stock prices x and y\n",
    "    df = pd.DataFrame({'x': x, 'y' : y})\n",
    "    est = sm.OLS(df.y, df.x) ## OLS = Ordinary Least Squares, for linear regression\n",
    "    est.fit()\n",
    "    df['hedge_ratio'] = est.params[0]\n",
    "    df['intercept'] = est.params[1]\n",
    "    df['spread'] = df.y - df.x * df.hedge_ratio - df.intercept\n",
    "    res = ts.adfuller(df['spread'])\n",
    "    return res[1]"
   ]
  },
  {
   "cell_type": "code",
   "execution_count": 223,
   "metadata": {},
   "outputs": [],
   "source": [
    "from numpy import log, polyfit, sqrt, std, subtract"
   ]
  },
  {
   "cell_type": "code",
   "execution_count": 224,
   "metadata": {},
   "outputs": [],
   "source": [
    "def hurst_test(time_ser):\n",
    "    lags = [i for i in range(2, 200)]\n",
    "    tau = [(std(subtract(ts[lag:], ts[:-lag]))) for lag in lags] ## Root(Variance) = std_dev\n",
    "    poly = polyfit(log(lags), log(tau), 1) ## np.polyfit(x, y, deg), linear regression to find slope\n",
    "    return poly[0] ## Return value is an array of coeffecients in descending order of powers, poly[0] is the slope"
   ]
  },
  {
   "cell_type": "code",
   "execution_count": 225,
   "metadata": {},
   "outputs": [],
   "source": [
    "def half_life_spread(x):\n",
    "    \n",
    "    x_lag = x.shift(1)\n",
    "    x_lag.iloc[0] = x_lag.iloc[1]\n",
    "    diff = x - x_lag\n",
    "    diff.iloc[0] = diff.iloc[1]\n",
    "    \n",
    "    x_lag_2 = sm.add_constant(x_lag)\n",
    "    est = sm.OLS(diff, x_lag_2)\n",
    "    res = est.fit()\n",
    "\n",
    "    half_life = int(round(-np.log(2) / res.params[1],0))\n",
    "    if half_life <= 0:\n",
    "        half_life = 1\n",
    "    return half_life"
   ]
  },
  {
   "cell_type": "code",
   "execution_count": 226,
   "metadata": {},
   "outputs": [],
   "source": [
    "def KF_Avg(x):\n",
    "    \"\"\"Smoothens a stock price series, removing all possible noise\"\"\"\n",
    "    kf = KalmanFilter(transition_matrices = [1], ## System Model: priori_price_on_next_day = price_on_last_day\n",
    "                      observation_matrices = [1], ## Measuring stock price on the next day\n",
    "                      initial_state_mean = 0,\n",
    "                      initial_state_covariance = 1,\n",
    "                      observation_covariance=1,\n",
    "                      transition_covariance=.01)\n",
    "    state_means, state_covs = kf.filter(x.values) ## x is assumed to be sequential measurements of the stock price\n",
    "    state_means = pd.Series(state_means.flatten(), index=x.index)\n",
    "    return state_means"
   ]
  },
  {
   "cell_type": "code",
   "execution_count": 227,
   "metadata": {},
   "outputs": [],
   "source": [
    "def KF_linear_regression(x, y):\n",
    "    \"\"\"Uses a Kalman Filter to determine the linear regression parameters for stocks x and y\"\"\"\n",
    "    delta = 1e-3\n",
    "    trans_cov = delta / (1 - delta) * np.eye(2) # How much random walk wiggles\n",
    "    obs_mat = np.expand_dims(np.vstack([[x], [np.ones(len(x))]]).T, axis=1)\n",
    "\n",
    "    ## alpha is intercept, beta is the slope\n",
    "\n",
    "    kf = KalmanFilter(n_dim_obs=1, n_dim_state=2, # y (obs) is 1-dimensional, (beta, alpha) (state) is 2-dimensional\n",
    "                      initial_state_mean=[0,0],\n",
    "                      initial_state_covariance = np.ones((2, 2)),\n",
    "                      transition_matrices = np.eye(2), ## priori params = previous_day_params\n",
    "                      observation_matrices = obs_mat, ## H of each iteration of the kf algo ** (the observation matrix is not static)\n",
    "                      observation_covariance = 2, ## 2\n",
    "                      transition_covariance = trans_cov)\n",
    "    \n",
    "    state_means, state_covs = kf.filter(y.values)\n",
    "    return state_means"
   ]
  },
  {
   "cell_type": "code",
   "execution_count": 228,
   "metadata": {},
   "outputs": [],
   "source": [
    "def backtest(x, y, allowed_drawdown = 0.05, stop_loss = 0.05):\n",
    "    df1 = pd.DataFrame({'y':y,'x':x})\n",
    "    state_means = KF_linear_regression(KF_Avg(x), KF_Avg(y))\n",
    "\n",
    "    df1['hr'] = state_means[:,0] ## The hedge ratio\n",
    "    df1['intercept'] = state_means[:, 1]\n",
    "    df1['spread'] = df1.y - (df1.x * df1.hr) ##- df1.intercept\n",
    "\n",
    "    halflife = half_life_spread(df1['spread'])\n",
    "\n",
    "    meanSpread = df1.spread.rolling(window= 1 * halflife).mean()\n",
    "    stdSpread = df1.spread.rolling(window= 1 * halflife).std()\n",
    "\n",
    "    df1['zScore'] = (df1.spread-meanSpread)/stdSpread\n",
    "    entryZscore = 1\n",
    "    exitZscore = 0\n",
    "\n",
    "    df1['long entry'] = ((df1.zScore < - entryZscore) & ( df1.zScore.shift(1) > - entryZscore))\n",
    "    df1['long exit'] = ((df1.zScore > - exitZscore) & ( df1.zScore.shift(1) < - exitZscore))\n",
    "    df1['num units long'] = np.nan\n",
    "    df1.loc[df1['long entry'],'num units long'] = 1 ## num units long updated for the indices where df1['long entry'] is true\n",
    "    df1.loc[df1['long exit'],'num units long'] = 0\n",
    "    df1['num units long'][0] = 0\n",
    "    df1['num units long'] = df1['num units long'].fillna(method='pad') ## each NaN filled with the prev non-NaN value\n",
    "\n",
    "\n",
    "    df1['short entry'] = ((df1.zScore > entryZscore) & ( df1.zScore.shift(1) <  entryZscore))\n",
    "    df1['short exit'] = ((df1.zScore < exitZscore) & ( df1.zScore.shift(1) >  exitZscore))\n",
    "    df1['num units short'] = np.nan\n",
    "    df1.loc[df1['short entry'],'num units short'] = -1 ## num units short updated for the indices where df1['short entry'] is true\n",
    "    df1.loc[df1['short exit'],'num units short'] = 0\n",
    "    df1['num units short'][0] = 0\n",
    "    df1['num units short'] = df1['num units short'].fillna(method='pad') ## each NaN filled with the prev non-NaN value\n",
    "\n",
    "    df1['numUnits'] = df1['num units long'] + df1['num units short']\n",
    "    df1['spread_pct_chg'] = df1.spread.diff()/df1.spread\n",
    "    df1['port rets'] = df1['spread_pct_chg'] * df1['numUnits'].shift(1)\n",
    "\n",
    "    df1['cum rets'] = df1['port rets'].cumsum()\n",
    "    df1['cum rets'] = df1['cum rets'] + 1\n",
    "\n",
    "    \n",
    "\n",
    "    df1['drawdown'] = ffn.to_drawdown_series(df1['cum rets'])\n",
    "    idx = (df1['drawdown'] < - allowed_drawdown) | (df1['cum rets'] < 1 - stop_loss)\n",
    "    \n",
    "    first_idx = idx.idxmax() if idx.any() else None\n",
    "\n",
    "    if first_idx is not None:\n",
    "        df1.loc[first_idx:, 'cum rets'] = np.nan\n",
    "        df1.loc[first_idx:, 'port_rets'] = 0\n",
    "\n",
    "    df1['cum rets'] = df1['cum rets'].fillna(method='pad')\n",
    "\n",
    "    try:\n",
    "        sharpe = ((df1['port rets'].mean() / df1['port rets'].std()) * sqrt(252))\n",
    "    except ZeroDivisionError:\n",
    "        sharpe = 0.0\n",
    "\n",
    "    return df1['cum rets'], sharpe\n"
   ]
  },
  {
   "cell_type": "code",
   "execution_count": 229,
   "metadata": {},
   "outputs": [],
   "source": [
    "def find_coint_pairs(df, critical_val = 0.05):\n",
    "    n = df.shape[1] ## Number of different stocks\n",
    "    p_value_mat = np.zeros((n, n))\n",
    "\n",
    "    stocks = df.keys()\n",
    "    feasible_pairs = []\n",
    "    for i in range(0, n):\n",
    "        s1 = df[stocks[i]]\n",
    "        for j in range(i + 1, n):\n",
    "            s2 = df[stocks[j]]\n",
    "            \n",
    "            p_val = (ts.coint(s1, s2))[1]\n",
    "\n",
    "            p_value_mat[i, j] = p_val\n",
    "            if p_val < critical_val: ## The pair is cointegrated\n",
    "                row = [stocks[i], stocks[j], p_val]\n",
    "                feasible_pairs.append(row)\n",
    "    feasible_pairs = pd.DataFrame(feasible_pairs, columns = ['S1', 'S2', 'Pvalue'])\n",
    "    return p_value_mat, feasible_pairs"
   ]
  },
  {
   "cell_type": "code",
   "execution_count": 230,
   "metadata": {},
   "outputs": [],
   "source": [
    "pd.core.common.is_list_like = pd.api.types.is_list_like\n",
    "from pandas_datareader import data as pdr\n",
    "import yfinance as yf\n",
    "pdr.get_data_yahoo = pdr.get_data_yahoo"
   ]
  },
  {
   "cell_type": "code",
   "execution_count": 231,
   "metadata": {},
   "outputs": [
    {
     "name": "stderr",
     "output_type": "stream",
     "text": [
      "[*********************100%***********************]  9 of 9 completed\n"
     ]
    }
   ],
   "source": [
    "start = datetime(2022, 1, 1)\n",
    "end = datetime(2024, 12, 23)\n",
    "\n",
    "it_tickers = [\n",
    "    \"TCS.NS\", \"INFY.NS\", \"WIPRO.NS\", \"HCLTECH.NS\", \"TECHM.NS\",\n",
    "    \"LTIM.NS\", \"COFORGE.NS\", \"MPHASIS.NS\", \"PERSISTENT.NS\"\n",
    "]\n",
    "\n",
    "\n",
    "df = yf.download(it_tickers, start, end)['Close']\n",
    "df.tail()\n",
    "df.index = pd.to_datetime(df.index)\n",
    "df.to_csv('it_train.csv')"
   ]
  },
  {
   "cell_type": "code",
   "execution_count": 232,
   "metadata": {},
   "outputs": [
    {
     "name": "stderr",
     "output_type": "stream",
     "text": [
      "[*********************100%***********************]  9 of 9 completed\n"
     ]
    }
   ],
   "source": [
    "start = datetime(2022, 1, 1)\n",
    "end = datetime(2024, 12, 23)\n",
    "\n",
    "it_tickers = [\n",
    "    \"TCS.NS\", \"INFY.NS\", \"WIPRO.NS\", \"HCLTECH.NS\", \"TECHM.NS\",\n",
    "    \"LTIM.NS\", \"COFORGE.NS\", \"MPHASIS.NS\", \"PERSISTENT.NS\"\n",
    "]\n",
    "\n",
    "\n",
    "df = yf.download(it_tickers, start, end)['Close']\n",
    "df.tail()\n",
    "df.index = pd.to_datetime(df.index)\n",
    "df.to_csv('it_train.csv')"
   ]
  },
  {
   "cell_type": "code",
   "execution_count": 233,
   "metadata": {},
   "outputs": [
    {
     "name": "stderr",
     "output_type": "stream",
     "text": [
      "[*********************100%***********************]  9 of 9 completed\n"
     ]
    }
   ],
   "source": [
    "pharma_tickers = [\n",
    "    \"SUNPHARMA.NS\", \"DRREDDY.NS\", \"CIPLA.NS\", \"DIVISLAB.NS\",\n",
    "    \"AUROPHARMA.NS\", \"BIOCON.NS\", \"LUPIN.NS\", \"TORNTPHARM.NS\",\n",
    "    \"ZYDUSLIFE.NS\", \"GLENMARK.NS\"\n",
    "]\n",
    "\n",
    "\n",
    "start = datetime(2022, 1, 1)\n",
    "end = datetime(2025, 1, 1)\n",
    "df = yf.download(it_tickers, start, end)['Close']\n",
    "df.tail()\n",
    "df.index = pd.to_datetime(df.index)\n",
    "df.to_csv('pharma_train.csv')"
   ]
  },
  {
   "cell_type": "code",
   "execution_count": 234,
   "metadata": {},
   "outputs": [
    {
     "name": "stderr",
     "output_type": "stream",
     "text": [
      "[*********************100%***********************]  9 of 9 completed\n"
     ]
    }
   ],
   "source": [
    "start = datetime(2022, 1, 1)\n",
    "end = datetime(2025, 1, 1)\n",
    "\n",
    "bank_tickers = ['SBIN.NS', 'KOTAKBANK.NS', 'INDUSINDBK.NS', 'HDFCBANK.NS', 'ICICIBANK.NS', 'BANKBARODA.NS', 'CANBK.NS', 'AXISBANK.NS']\n",
    "df = yf.download(it_tickers, start, end)['Close']\n",
    "df.tail()\n",
    "df.index = pd.to_datetime(df.index)\n",
    "df.to_csv('bank_train.csv')"
   ]
  },
  {
   "cell_type": "code",
   "execution_count": 235,
   "metadata": {},
   "outputs": [],
   "source": [
    "from datetime import time, timedelta\n",
    "from dateutil.relativedelta import relativedelta"
   ]
  },
  {
   "cell_type": "code",
   "execution_count": 236,
   "metadata": {},
   "outputs": [],
   "source": [
    "def backtest2(x, y, allowed_drawdown = 0.05, stop_loss = 0.05):\n",
    "    df1 = pd.DataFrame({'y':y,'x':x})\n",
    "    state_means = KF_linear_regression(KF_Avg(x), KF_Avg(y))\n",
    "    df1['hr'] = state_means[:,0] ## The hedge ratio\n",
    "    df1['intercept'] = state_means[:, 1]\n",
    "    df1['spread'] = df1.y - (df1.x * df1.hr) ##- df1.intercept\n",
    "    halflife = half_life_spread(df1['spread'])\n",
    "    meanSpread = df1.spread.rolling(window= 1 * halflife).mean()\n",
    "    stdSpread = df1.spread.rolling(window= 1 * halflife).std()\n",
    "    \n",
    "    df1['zScore'] = (df1.spread-meanSpread)/stdSpread\n",
    "    entryZscore = 1\n",
    "    exitZscore = 0\n",
    "\n",
    "    df1['long entry'] = ((df1.zScore < - entryZscore) & ( df1.zScore.shift(1) > - entryZscore))\n",
    "    df1['long exit'] = ((df1.zScore > - exitZscore) & ( df1.zScore.shift(1) < - exitZscore))\n",
    "    df1['num units long'] = np.nan\n",
    "    df1.loc[df1['long entry'],'num units long'] = 1 ## num units long updated for the indices where df1['long entry'] is true\n",
    "    df1.loc[df1['long exit'],'num units long'] = 0\n",
    "    df1['num units long'][0] = 0\n",
    "    df1['num units long'] = df1['num units long'].fillna(method='pad') ## each NaN filled with the prev non-NaN value\n",
    "\n",
    "\n",
    "    df1['short entry'] = ((df1.zScore > entryZscore) & ( df1.zScore.shift(1) <  entryZscore))\n",
    "    df1['short exit'] = ((df1.zScore < exitZscore) & ( df1.zScore.shift(1) >  exitZscore))\n",
    "    df1['num units short'] = np.nan\n",
    "    df1.loc[df1['short entry'],'num units short'] = -1 ## num units short updated for the indices where df1['short entry'] is true\n",
    "    df1.loc[df1['short exit'],'num units short'] = 0\n",
    "    df1['num units short'][0] = 0\n",
    "    df1['num units short'] = df1['num units short'].fillna(method='pad') ## each NaN filled with the prev non-NaN value\n",
    "\n",
    "    df1['numUnits'] = df1['num units long'] + df1['num units short']\n",
    "    df1['spread_pct_chg'] = df1.spread.diff()/df1.spread\n",
    "    df1['port rets'] = df1['spread_pct_chg'] * df1['numUnits'].shift(1)\n",
    "\n",
    "    df1['cum rets'] = df1['port rets'].cumsum()\n",
    "    df1['cum rets'] = df1['cum rets'] + 1\n",
    "\n",
    "    df1['drawdown'] = ffn.to_drawdown_series(df1['cum rets'])\n",
    "    idx = (df1['drawdown'] < - allowed_drawdown) | (df1['cum rets'] < 1 - stop_loss)\n",
    "    \n",
    "    first_idx = idx.idxmax() if idx.any() else None\n",
    "\n",
    "    if first_idx is not None:\n",
    "        df1.loc[first_idx:, 'cum rets'] = np.nan\n",
    "        df1.loc[first_idx:, 'port_rets'] = 0\n",
    "\n",
    "    df1['cum rets'] = df1['cum rets'].fillna(method='pad')\n",
    "\n",
    "    try:\n",
    "        sharpe = ((df1['port rets'].mean() / df1['port rets'].std()) * sqrt(252))\n",
    "    except ZeroDivisionError:\n",
    "        sharpe = 0.0\n",
    "\n",
    "    return df1['cum rets'], sharpe\n"
   ]
  },
  {
   "cell_type": "code",
   "execution_count": 237,
   "metadata": {},
   "outputs": [],
   "source": [
    "def volatility_pair(y, x):\n",
    "    df1 = pd.DataFrame({'y':y,'x':x})\n",
    "    state_means = KF_linear_regression(KF_Avg(x), KF_Avg(y))\n",
    "    df1['hr'] = state_means[:,0] ## The hedge ratio\n",
    "    df1['intercept'] = state_means[:, 1]\n",
    "    df1['spread'] = df1.y - (df1.x * df1.hr) ##- df1.intercept\n",
    "    \n",
    "    df1['spread_change'] = df1['spread'].diff()\n",
    "    spread_pct_chg = df1['spread_change']/df1['spread']\n",
    "    return spread_pct_chg.std()"
   ]
  },
  {
   "cell_type": "code",
   "execution_count": 238,
   "metadata": {},
   "outputs": [],
   "source": [
    "def tester(df, start_date, end_date, allowed_drawdown, stop_loss, months_check_vol, revise_time = 1):\n",
    "    start_check = start_date\n",
    "    end_check = start_check + relativedelta(months=months_check_vol)\n",
    "\n",
    "    results_dict_list = []\n",
    "\n",
    "    while end_check <= end_date:\n",
    "        print(start_check)\n",
    "        _, poss_pairs = find_coint_pairs(df.loc[start_check: end_check])\n",
    "        try:\n",
    "            for pair in poss_pairs.values:\n",
    "                res = backtest2(df.loc[end_check : end_check + relativedelta(months = revise_time)][pair[0]]\n",
    "                            , df.loc[end_check : end_check + relativedelta(months = revise_time)][pair[1]],\n",
    "                            allowed_drawdown= allowed_drawdown, stop_loss=stop_loss)\n",
    "                vol = volatility_pair(df.loc[end_check - relativedelta(months = 1): end_check][pair[0] ]\n",
    "                            , df.loc[end_check - relativedelta(months = 1): end_check ][pair[1] ])\n",
    "                res_dict = {'pair' : pair[0:2], 'sharpe' : res[1], 'returns' : res[0], 'volatility' : vol}\n",
    "                results_dict_list.append(res_dict)\n",
    "            start_check += relativedelta(months = revise_time)\n",
    "            end_check = start_check + relativedelta(months=months_check_vol)\n",
    "        except ValueError as e:\n",
    "            break\n",
    "    \n",
    "    return results_dict_list"
   ]
  },
  {
   "cell_type": "code",
   "execution_count": 239,
   "metadata": {},
   "outputs": [],
   "source": [
    "def trade_plotter(res):\n",
    "    for r in res:\n",
    "        r['returns'].plot()\n",
    "    plt.ylabel('Return (Per position during active period)')"
   ]
  },
  {
   "cell_type": "code",
   "execution_count": 240,
   "metadata": {},
   "outputs": [],
   "source": [
    "def res_summary(res):\n",
    "    prof_count = 0\n",
    "    prof = 0\n",
    "    loss_count = 0\n",
    "    loss = 0\n",
    "    for t in res:\n",
    "        \n",
    "        x = t['returns'][-1] - 1\n",
    "        vol = t['volatility']\n",
    "        x = 10000 * x/vol\n",
    "        if x > 0:\n",
    "            prof_count += 1\n",
    "            prof += x\n",
    "        elif x < 0:\n",
    "            loss_count += 1\n",
    "            loss += x\n",
    "    print(f'No. of profitable positions: {prof_count}, avg_profit = {prof/prof_count}')\n",
    "    print(f'No. of loss-making positions: {loss_count}, avg_loss = {loss/loss_count if loss_count else 0}')\n",
    "    print(f'No. of positions with no-change/no trading opportunities: {len(res) - prof_count - loss_count}')\n",
    "    print(f'Net PnL = {prof + loss}')"
   ]
  },
  {
   "cell_type": "code",
   "execution_count": 241,
   "metadata": {},
   "outputs": [],
   "source": [
    "start_date = datetime(2022, 7, 1)\n",
    "end_date = datetime(2025, 1, 1)\n",
    "allowed_drawdown = 0.05\n",
    "stop_loss = 0.1\n",
    "months_check_vol = 6"
   ]
  },
  {
   "cell_type": "code",
   "execution_count": 242,
   "metadata": {},
   "outputs": [],
   "source": [
    "df = pd.read_csv('bank_train.csv', parse_dates=True, index_col='Date')"
   ]
  },
  {
   "cell_type": "code",
   "execution_count": 243,
   "metadata": {},
   "outputs": [
    {
     "name": "stdout",
     "output_type": "stream",
     "text": [
      "2022-07-01 00:00:00\n",
      "2022-08-01 00:00:00\n",
      "2022-09-01 00:00:00\n",
      "2022-10-01 00:00:00\n",
      "2022-11-01 00:00:00\n",
      "2022-12-01 00:00:00\n",
      "2023-01-01 00:00:00\n",
      "2023-02-01 00:00:00\n",
      "2023-03-01 00:00:00\n",
      "2023-04-01 00:00:00\n",
      "2023-05-01 00:00:00\n",
      "2023-06-01 00:00:00\n",
      "2023-07-01 00:00:00\n",
      "2023-08-01 00:00:00\n",
      "2023-09-01 00:00:00\n",
      "2023-10-01 00:00:00\n",
      "2023-11-01 00:00:00\n",
      "2023-12-01 00:00:00\n",
      "2024-01-01 00:00:00\n",
      "2024-02-01 00:00:00\n",
      "2024-03-01 00:00:00\n",
      "2024-04-01 00:00:00\n",
      "2024-05-01 00:00:00\n",
      "2024-06-01 00:00:00\n",
      "2024-07-01 00:00:00\n"
     ]
    }
   ],
   "source": [
    "res_bank_1_mth_pos = tester(df, start_date, end_date, allowed_drawdown, stop_loss, months_check_vol)"
   ]
  },
  {
   "cell_type": "code",
   "execution_count": 244,
   "metadata": {},
   "outputs": [
    {
     "name": "stdout",
     "output_type": "stream",
     "text": [
      "No. of profitable positions: 10, avg_profit = 11032.387261945236\n",
      "No. of loss-making positions: 0, avg_loss = 0\n",
      "No. of positions with no-change/no trading opportunities: 39\n",
      "Net PnL = 110323.87261945236\n"
     ]
    },
    {
     "data": {
      "image/png": "[encoded data removed]",
      "text/plain": [
       "<Figure size 640x480 with 1 Axes>"
      ]
     },
     "metadata": {},
     "output_type": "display_data"
    }
   ],
   "source": [
    "res_summary(res_bank_1_mth_pos)\n",
    "trade_plotter(res_bank_1_mth_pos)"
   ]
  },
  {
   "cell_type": "code",
   "execution_count": 245,
   "metadata": {},
   "outputs": [
    {
     "name": "stdout",
     "output_type": "stream",
     "text": [
      "2022-07-01 00:00:00\n",
      "2022-09-01 00:00:00\n",
      "2022-11-01 00:00:00\n",
      "2023-01-01 00:00:00\n",
      "2023-03-01 00:00:00\n",
      "2023-05-01 00:00:00\n",
      "2023-07-01 00:00:00\n",
      "2023-09-01 00:00:00\n",
      "2023-11-01 00:00:00\n",
      "2024-01-01 00:00:00\n",
      "2024-03-01 00:00:00\n",
      "2024-05-01 00:00:00\n",
      "2024-07-01 00:00:00\n"
     ]
    }
   ],
   "source": [
    "res_bank_2_mth_pos = tester(df, start_date, end_date, allowed_drawdown, stop_loss, months_check_vol, revise_time= 2)"
   ]
  },
  {
   "cell_type": "code",
   "execution_count": 246,
   "metadata": {},
   "outputs": [
    {
     "name": "stdout",
     "output_type": "stream",
     "text": [
      "No. of profitable positions: 5, avg_profit = 20452.427709942767\n",
      "No. of loss-making positions: 0, avg_loss = 0\n",
      "No. of positions with no-change/no trading opportunities: 20\n",
      "Net PnL = 102262.13854971384\n"
     ]
    },
    {
     "data": {
      "image/png": "[encoded data removed]",
      "text/plain": [
       "<Figure size 640x480 with 1 Axes>"
      ]
     },
     "metadata": {},
     "output_type": "display_data"
    }
   ],
   "source": [
    "res_summary(res_bank_2_mth_pos)\n",
    "trade_plotter(res_bank_2_mth_pos)"
   ]
  },
  {
   "cell_type": "code",
   "execution_count": 247,
   "metadata": {},
   "outputs": [
    {
     "name": "stdout",
     "output_type": "stream",
     "text": [
      "2022-07-01 00:00:00\n",
      "2022-10-01 00:00:00\n",
      "2023-01-01 00:00:00\n",
      "2023-04-01 00:00:00\n",
      "2023-07-01 00:00:00\n",
      "2023-10-01 00:00:00\n",
      "2024-01-01 00:00:00\n",
      "2024-04-01 00:00:00\n",
      "2024-07-01 00:00:00\n"
     ]
    }
   ],
   "source": [
    "res_bank_3_mth_pos =tester(df, start_date, end_date, allowed_drawdown, stop_loss, months_check_vol, revise_time= 3)"
   ]
  },
  {
   "cell_type": "code",
   "execution_count": 248,
   "metadata": {},
   "outputs": [
    {
     "name": "stdout",
     "output_type": "stream",
     "text": [
      "No. of profitable positions: 11, avg_profit = 8936.352444890425\n",
      "No. of loss-making positions: 0, avg_loss = 0\n",
      "No. of positions with no-change/no trading opportunities: 8\n",
      "Net PnL = 98299.87689379467\n"
     ]
    },
    {
     "data": {
      "image/png": "[encoded data removed]",
      "text/plain": [
       "<Figure size 640x480 with 1 Axes>"
      ]
     },
     "metadata": {},
     "output_type": "display_data"
    }
   ],
   "source": [
    "res_summary(res_bank_3_mth_pos)\n",
    "trade_plotter(res_bank_3_mth_pos)"
   ]
  },
  {
   "cell_type": "code",
   "execution_count": 249,
   "metadata": {},
   "outputs": [],
   "source": [
    "df = pd.read_csv('it_train.csv', parse_dates=True, index_col='Date')"
   ]
  },
  {
   "cell_type": "code",
   "execution_count": 250,
   "metadata": {},
   "outputs": [
    {
     "name": "stdout",
     "output_type": "stream",
     "text": [
      "2022-07-01 00:00:00\n",
      "2022-08-01 00:00:00\n",
      "2022-09-01 00:00:00\n",
      "2022-10-01 00:00:00\n",
      "2022-11-01 00:00:00\n",
      "2022-12-01 00:00:00\n",
      "2023-01-01 00:00:00\n",
      "2023-02-01 00:00:00\n",
      "2023-03-01 00:00:00\n",
      "2023-04-01 00:00:00\n",
      "2023-05-01 00:00:00\n",
      "2023-06-01 00:00:00\n",
      "2023-07-01 00:00:00\n",
      "2023-08-01 00:00:00\n",
      "2023-09-01 00:00:00\n",
      "2023-10-01 00:00:00\n",
      "2023-11-01 00:00:00\n",
      "2023-12-01 00:00:00\n",
      "2024-01-01 00:00:00\n",
      "2024-02-01 00:00:00\n",
      "2024-03-01 00:00:00\n",
      "2024-04-01 00:00:00\n",
      "2024-05-01 00:00:00\n",
      "2024-06-01 00:00:00\n",
      "2024-07-01 00:00:00\n"
     ]
    }
   ],
   "source": [
    "res_it = tester(df, start_date, end_date, allowed_drawdown, stop_loss, months_check_vol)"
   ]
  },
  {
   "cell_type": "code",
   "execution_count": 251,
   "metadata": {},
   "outputs": [
    {
     "name": "stdout",
     "output_type": "stream",
     "text": [
      "No. of profitable positions: 11, avg_profit = 10249.052704466469\n",
      "No. of loss-making positions: 0, avg_loss = 0\n",
      "No. of positions with no-change/no trading opportunities: 38\n",
      "Net PnL = 112739.57974913115\n"
     ]
    },
    {
     "data": {
      "image/png": "[encoded data removed]",
      "text/plain": [
       "<Figure size 640x480 with 1 Axes>"
      ]
     },
     "metadata": {},
     "output_type": "display_data"
    }
   ],
   "source": [
    "res_summary(res_it)\n",
    "trade_plotter(res_it)"
   ]
  },
  {
   "cell_type": "code",
   "execution_count": 252,
   "metadata": {},
   "outputs": [],
   "source": [
    "df = pd.read_csv('pharma_train.csv', parse_dates=True, index_col='Date')"
   ]
  },
  {
   "cell_type": "code",
   "execution_count": 253,
   "metadata": {},
   "outputs": [
    {
     "name": "stdout",
     "output_type": "stream",
     "text": [
      "2022-07-01 00:00:00\n",
      "2022-08-01 00:00:00\n",
      "2022-09-01 00:00:00\n",
      "2022-10-01 00:00:00\n",
      "2022-11-01 00:00:00\n",
      "2022-12-01 00:00:00\n",
      "2023-01-01 00:00:00\n",
      "2023-02-01 00:00:00\n",
      "2023-03-01 00:00:00\n",
      "2023-04-01 00:00:00\n",
      "2023-05-01 00:00:00\n",
      "2023-06-01 00:00:00\n",
      "2023-07-01 00:00:00\n",
      "2023-08-01 00:00:00\n",
      "2023-09-01 00:00:00\n",
      "2023-10-01 00:00:00\n",
      "2023-11-01 00:00:00\n",
      "2023-12-01 00:00:00\n",
      "2024-01-01 00:00:00\n",
      "2024-02-01 00:00:00\n",
      "2024-03-01 00:00:00\n",
      "2024-04-01 00:00:00\n",
      "2024-05-01 00:00:00\n",
      "2024-06-01 00:00:00\n",
      "2024-07-01 00:00:00\n"
     ]
    }
   ],
   "source": [
    "res_pharma = tester(df, start_date, end_date, allowed_drawdown, stop_loss, months_check_vol)"
   ]
  },
  {
   "cell_type": "code",
   "execution_count": 254,
   "metadata": {},
   "outputs": [
    {
     "name": "stdout",
     "output_type": "stream",
     "text": [
      "No. of profitable positions: 10, avg_profit = 11032.387261945236\n",
      "No. of loss-making positions: 0, avg_loss = 0\n",
      "No. of positions with no-change/no trading opportunities: 39\n",
      "Net PnL = 110323.87261945236\n"
     ]
    },
    {
     "data": {
      "image/png": "[encoded data removed]",
      "text/plain": [
       "<Figure size 640x480 with 1 Axes>"
      ]
     },
     "metadata": {},
     "output_type": "display_data"
    }
   ],
   "source": [
    "res_summary(res_pharma)\n",
    "trade_plotter(res_pharma)"
   ]
  }
 ],
 "metadata": {
  "kernelspec": {
   "display_name": "Python 3",
   "language": "python",
   "name": "python3"
  },
  "language_info": {
   "codemirror_mode": {
    "name": "ipython",
    "version": 3
   },
   "file_extension": ".py",
   "mimetype": "text/x-python",
   "name": "python",
   "nbconvert_exporter": "python",
   "pygments_lexer": "ipython3",
   "version": "3.12.0"
  }
 },
 "nbformat": 4,
 "nbformat_minor": 2
}
