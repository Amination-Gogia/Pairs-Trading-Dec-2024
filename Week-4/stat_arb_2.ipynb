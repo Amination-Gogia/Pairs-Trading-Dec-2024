{
 "cells": [
  {
   "cell_type": "code",
   "execution_count": 172,
   "metadata": {},
   "outputs": [],
   "source": [
    "import numpy as np\n",
    "from datetime import datetime\n",
    "import pandas as pd\n",
    "import statsmodels.tsa.stattools as ts\n",
    "import statsmodels.api as sm\n",
    "import matplotlib.pyplot as plt\n",
    "import seaborn as sns\n",
    "import ffn\n",
    "import warnings\n",
    "warnings.filterwarnings('ignore')"
   ]
  },
  {
   "cell_type": "code",
   "execution_count": 173,
   "metadata": {},
   "outputs": [],
   "source": [
    "pd.core.common.is_list_like = pd.api.types.is_list_like\n",
    "from pandas_datareader import data as pdr\n",
    "import yfinance as yf\n",
    "pdr.get_data_yahoo = pdr.get_data_yahoo"
   ]
  },
  {
   "cell_type": "code",
   "execution_count": 174,
   "metadata": {},
   "outputs": [],
   "source": [
    "bank_tickers = ['SBIN.NS', 'KOTAKBANK.NS', 'INDUSINDBK.NS', 'HDFCBANK.NS', 'ICICIBANK.NS', 'BANKBARODA.NS', 'CANBK.NS', 'AXISBANK.NS']"
   ]
  },
  {
   "cell_type": "code",
   "execution_count": 175,
   "metadata": {},
   "outputs": [],
   "source": [
    "from statsmodels.tsa.vector_ar.vecm import coint_johansen"
   ]
  },
  {
   "cell_type": "code",
   "execution_count": 176,
   "metadata": {},
   "outputs": [],
   "source": [
    "from datetime import time, timedelta\n",
    "from dateutil.relativedelta import relativedelta"
   ]
  },
  {
   "cell_type": "code",
   "execution_count": 177,
   "metadata": {},
   "outputs": [],
   "source": [
    "def backtest(stock_price_df, coeffs, entryZscore, exitZscore, stopLossZscore):\n",
    "    stock_names = stock_price_df.keys()\n",
    "    df = stock_price_df.copy()\n",
    "    df['spread'] = df[stock_names] @ coeffs\n",
    "    df['mean_30'] = df['spread'].rolling(window = 30).mean()\n",
    "    df['std_30'] = df['spread'].rolling(window = 30).std()\n",
    "    df['z_score'] = (df['spread'] - df['mean_30'])/df['std_30']\n",
    "\n",
    "    df['long_entry'] = (df.z_score < - entryZscore) & (df.z_score.shift(1) > - entryZscore) & (df.z_score > - stopLossZscore)\n",
    "    df['long_exit'] = ((df.z_score > - exitZscore) | (df.z_score < - stopLossZscore)) & ( df.z_score.shift(1) < - exitZscore) \n",
    "    df['num_units_long'] = np.nan\n",
    "    df.loc[df['long_entry'], 'num_units_long'] = 1\n",
    "    df.loc[df['long_exit'], 'num_units_long'] = 0\n",
    "    df['num_units_long'][0] = 0\n",
    "    df['num_units_long'] = df['num_units_long'].fillna(method='pad')\n",
    "\n",
    "    df['short_entry'] = (df.z_score > entryZscore) & ( df.z_score.shift(1) < entryZscore) & (df.z_score < stopLossZscore)\n",
    "    df['short_exit'] = ((df.z_score < exitZscore) | (df.z_score > stopLossZscore)) & ( df.z_score.shift(1) > exitZscore)\n",
    "    df['num_units_short'] = np.nan\n",
    "    df.loc[df['short_entry'], 'num_units_short'] = -1\n",
    "    df.loc[df['short_exit'], 'num_units_short'] = 0\n",
    "    df['num_units_short'][0] = 0\n",
    "    df['num_units_short'] = df['num_units_short'].fillna(method='pad')\n",
    "\n",
    "    df['numUnits'] = df['num_units_long'] + df['num_units_short']\n",
    "    df['spread_pct_chg'] = df.spread.diff()/df.spread\n",
    "    df['port rets'] = df['spread_pct_chg'] * df['numUnits'].shift(1)\n",
    "\n",
    "    df['cum rets'] = df['port rets'].cumsum()\n",
    "    df['cum rets'] = df['cum rets'] + 1\n",
    "\n",
    "    try:\n",
    "        sharpe = ((df['port rets'].mean() / df['port rets'].std()) * (252) ** 0.5)\n",
    "    except ZeroDivisionError:\n",
    "        sharpe = 0.0\n",
    "\n",
    "    df['drawdown'] = ffn.to_drawdown_series(df['cum rets'])\n",
    "    idx = (df['drawdown'] <= -0.05) | (df['cum rets'] <= 0.95)\n",
    "    \n",
    "    first_idx = idx.idxmax() if idx.any() else None\n",
    "\n",
    "# If a True value exists, set all 'cum rets' from that index onward to NaN\n",
    "    if first_idx is not None:\n",
    "        df.loc[first_idx:, 'cum rets'] = np.nan\n",
    "    # df.loc[,'numUnits'] = np.nan\n",
    "\n",
    "    # df['port rets'] = df['spread_pct_chg'] * df['numUnits'].shift(1)\n",
    "\n",
    "    # df['cum rets'] = df['port rets'].cumsum()\n",
    "    # df['cum rets'] = df['cum rets'] + 1\n",
    "\n",
    "    df['cum rets'] = df['cum rets'].fillna(method='pad')\n",
    "    return df['cum rets'], sharpe, df['spread']"
   ]
  },
  {
   "cell_type": "code",
   "execution_count": 178,
   "metadata": {},
   "outputs": [
    {
     "name": "stderr",
     "output_type": "stream",
     "text": [
      "[*********************100%***********************]  8 of 8 completed\n"
     ]
    }
   ],
   "source": [
    "start = datetime(2022, 1, 1)\n",
    "end = datetime(2025, 1, 1)\n",
    "\n",
    "bank_tickers = ['SBIN.NS', 'KOTAKBANK.NS', 'INDUSINDBK.NS', 'HDFCBANK.NS', 'ICICIBANK.NS', 'BANKBARODA.NS', 'CANBK.NS', 'AXISBANK.NS']\n",
    "\n",
    "\n",
    "df = yf.download(bank_tickers, start, end)['Close']\n",
    "df.tail()\n",
    "df.index = pd.to_datetime(df.index)"
   ]
  },
  {
   "cell_type": "code",
   "execution_count": 179,
   "metadata": {},
   "outputs": [],
   "source": [
    "df.to_csv('bank_test_5yr.csv')"
   ]
  },
  {
   "cell_type": "code",
   "execution_count": 180,
   "metadata": {},
   "outputs": [],
   "source": [
    "df_test = pd.read_csv('bank_test_5yr.csv', parse_dates=True, index_col='Date')"
   ]
  },
  {
   "cell_type": "code",
   "execution_count": 181,
   "metadata": {},
   "outputs": [
    {
     "data": {
      "text/html": [
       "<div>\n",
       "<style scoped>\n",
       "    .dataframe tbody tr th:only-of-type {\n",
       "        vertical-align: middle;\n",
       "    }\n",
       "\n",
       "    .dataframe tbody tr th {\n",
       "        vertical-align: top;\n",
       "    }\n",
       "\n",
       "    .dataframe thead th {\n",
       "        text-align: right;\n",
       "    }\n",
       "</style>\n",
       "<table border=\"1\" class=\"dataframe\">\n",
       "  <thead>\n",
       "    <tr style=\"text-align: right;\">\n",
       "      <th></th>\n",
       "      <th>AXISBANK.NS</th>\n",
       "      <th>BANKBARODA.NS</th>\n",
       "      <th>CANBK.NS</th>\n",
       "      <th>HDFCBANK.NS</th>\n",
       "      <th>ICICIBANK.NS</th>\n",
       "      <th>INDUSINDBK.NS</th>\n",
       "      <th>KOTAKBANK.NS</th>\n",
       "      <th>SBIN.NS</th>\n",
       "    </tr>\n",
       "    <tr>\n",
       "      <th>Date</th>\n",
       "      <th></th>\n",
       "      <th></th>\n",
       "      <th></th>\n",
       "      <th></th>\n",
       "      <th></th>\n",
       "      <th></th>\n",
       "      <th></th>\n",
       "      <th></th>\n",
       "    </tr>\n",
       "  </thead>\n",
       "  <tbody>\n",
       "    <tr>\n",
       "      <th>2022-01-03</th>\n",
       "      <td>696.349976</td>\n",
       "      <td>83.800003</td>\n",
       "      <td>41.090000</td>\n",
       "      <td>1519.650024</td>\n",
       "      <td>764.700012</td>\n",
       "      <td>912.299988</td>\n",
       "      <td>1824.449951</td>\n",
       "      <td>470.799988</td>\n",
       "    </tr>\n",
       "    <tr>\n",
       "      <th>2022-01-04</th>\n",
       "      <td>709.150024</td>\n",
       "      <td>83.900002</td>\n",
       "      <td>41.310001</td>\n",
       "      <td>1528.550049</td>\n",
       "      <td>772.849976</td>\n",
       "      <td>904.400024</td>\n",
       "      <td>1852.599976</td>\n",
       "      <td>483.500000</td>\n",
       "    </tr>\n",
       "    <tr>\n",
       "      <th>2022-01-05</th>\n",
       "      <td>726.900024</td>\n",
       "      <td>84.900002</td>\n",
       "      <td>42.200001</td>\n",
       "      <td>1564.849976</td>\n",
       "      <td>788.049988</td>\n",
       "      <td>903.950012</td>\n",
       "      <td>1922.150024</td>\n",
       "      <td>492.399994</td>\n",
       "    </tr>\n",
       "    <tr>\n",
       "      <th>2022-01-06</th>\n",
       "      <td>730.299988</td>\n",
       "      <td>86.599998</td>\n",
       "      <td>42.500000</td>\n",
       "      <td>1539.750000</td>\n",
       "      <td>785.049988</td>\n",
       "      <td>921.700012</td>\n",
       "      <td>1891.900024</td>\n",
       "      <td>491.700012</td>\n",
       "    </tr>\n",
       "    <tr>\n",
       "      <th>2022-01-07</th>\n",
       "      <td>730.599976</td>\n",
       "      <td>87.599998</td>\n",
       "      <td>42.459999</td>\n",
       "      <td>1550.550049</td>\n",
       "      <td>793.250000</td>\n",
       "      <td>922.250000</td>\n",
       "      <td>1904.250000</td>\n",
       "      <td>491.250000</td>\n",
       "    </tr>\n",
       "    <tr>\n",
       "      <th>...</th>\n",
       "      <td>...</td>\n",
       "      <td>...</td>\n",
       "      <td>...</td>\n",
       "      <td>...</td>\n",
       "      <td>...</td>\n",
       "      <td>...</td>\n",
       "      <td>...</td>\n",
       "      <td>...</td>\n",
       "    </tr>\n",
       "    <tr>\n",
       "      <th>2024-12-24</th>\n",
       "      <td>1078.900024</td>\n",
       "      <td>244.949997</td>\n",
       "      <td>100.550003</td>\n",
       "      <td>1798.099976</td>\n",
       "      <td>1297.250000</td>\n",
       "      <td>935.299988</td>\n",
       "      <td>1749.050049</td>\n",
       "      <td>812.049988</td>\n",
       "    </tr>\n",
       "    <tr>\n",
       "      <th>2024-12-26</th>\n",
       "      <td>1076.699951</td>\n",
       "      <td>246.679993</td>\n",
       "      <td>101.029999</td>\n",
       "      <td>1790.750000</td>\n",
       "      <td>1297.349976</td>\n",
       "      <td>931.950012</td>\n",
       "      <td>1752.800049</td>\n",
       "      <td>812.450012</td>\n",
       "    </tr>\n",
       "    <tr>\n",
       "      <th>2024-12-27</th>\n",
       "      <td>1077.449951</td>\n",
       "      <td>244.990005</td>\n",
       "      <td>100.360001</td>\n",
       "      <td>1798.250000</td>\n",
       "      <td>1307.550049</td>\n",
       "      <td>953.400024</td>\n",
       "      <td>1759.900024</td>\n",
       "      <td>799.650024</td>\n",
       "    </tr>\n",
       "    <tr>\n",
       "      <th>2024-12-30</th>\n",
       "      <td>1069.949951</td>\n",
       "      <td>241.000000</td>\n",
       "      <td>99.440002</td>\n",
       "      <td>1777.900024</td>\n",
       "      <td>1294.650024</td>\n",
       "      <td>963.500000</td>\n",
       "      <td>1740.699951</td>\n",
       "      <td>788.299988</td>\n",
       "    </tr>\n",
       "    <tr>\n",
       "      <th>2024-12-31</th>\n",
       "      <td>1064.699951</td>\n",
       "      <td>240.550003</td>\n",
       "      <td>100.120003</td>\n",
       "      <td>1772.849976</td>\n",
       "      <td>1281.650024</td>\n",
       "      <td>960.150024</td>\n",
       "      <td>1786.050049</td>\n",
       "      <td>794.950012</td>\n",
       "    </tr>\n",
       "  </tbody>\n",
       "</table>\n",
       "<p>739 rows × 8 columns</p>\n",
       "</div>"
      ],
      "text/plain": [
       "            AXISBANK.NS  BANKBARODA.NS    CANBK.NS  HDFCBANK.NS  ICICIBANK.NS  \\\n",
       "Date                                                                            \n",
       "2022-01-03   696.349976      83.800003   41.090000  1519.650024    764.700012   \n",
       "2022-01-04   709.150024      83.900002   41.310001  1528.550049    772.849976   \n",
       "2022-01-05   726.900024      84.900002   42.200001  1564.849976    788.049988   \n",
       "2022-01-06   730.299988      86.599998   42.500000  1539.750000    785.049988   \n",
       "2022-01-07   730.599976      87.599998   42.459999  1550.550049    793.250000   \n",
       "...                 ...            ...         ...          ...           ...   \n",
       "2024-12-24  1078.900024     244.949997  100.550003  1798.099976   1297.250000   \n",
       "2024-12-26  1076.699951     246.679993  101.029999  1790.750000   1297.349976   \n",
       "2024-12-27  1077.449951     244.990005  100.360001  1798.250000   1307.550049   \n",
       "2024-12-30  1069.949951     241.000000   99.440002  1777.900024   1294.650024   \n",
       "2024-12-31  1064.699951     240.550003  100.120003  1772.849976   1281.650024   \n",
       "\n",
       "            INDUSINDBK.NS  KOTAKBANK.NS     SBIN.NS  \n",
       "Date                                                 \n",
       "2022-01-03     912.299988   1824.449951  470.799988  \n",
       "2022-01-04     904.400024   1852.599976  483.500000  \n",
       "2022-01-05     903.950012   1922.150024  492.399994  \n",
       "2022-01-06     921.700012   1891.900024  491.700012  \n",
       "2022-01-07     922.250000   1904.250000  491.250000  \n",
       "...                   ...           ...         ...  \n",
       "2024-12-24     935.299988   1749.050049  812.049988  \n",
       "2024-12-26     931.950012   1752.800049  812.450012  \n",
       "2024-12-27     953.400024   1759.900024  799.650024  \n",
       "2024-12-30     963.500000   1740.699951  788.299988  \n",
       "2024-12-31     960.150024   1786.050049  794.950012  \n",
       "\n",
       "[739 rows x 8 columns]"
      ]
     },
     "execution_count": 181,
     "metadata": {},
     "output_type": "execute_result"
    }
   ],
   "source": [
    "df_test"
   ]
  },
  {
   "cell_type": "code",
   "execution_count": 182,
   "metadata": {},
   "outputs": [
    {
     "name": "stdout",
     "output_type": "stream",
     "text": [
      "2022-01-01 00:00:00\n",
      "2022-02-01 00:00:00\n",
      "2022-03-01 00:00:00\n",
      "2022-04-01 00:00:00\n",
      "2022-05-01 00:00:00\n",
      "2022-06-01 00:00:00\n",
      "2022-07-01 00:00:00\n",
      "2022-08-01 00:00:00\n",
      "2022-09-01 00:00:00\n",
      "2022-10-01 00:00:00\n",
      "2022-11-01 00:00:00\n",
      "2022-12-01 00:00:00\n",
      "2023-01-01 00:00:00\n",
      "2023-02-01 00:00:00\n",
      "2023-03-01 00:00:00\n",
      "2023-04-01 00:00:00\n",
      "2023-05-01 00:00:00\n",
      "2023-06-01 00:00:00\n",
      "2023-07-01 00:00:00\n",
      "2023-08-01 00:00:00\n",
      "2023-09-01 00:00:00\n",
      "2023-10-01 00:00:00\n",
      "2023-11-01 00:00:00\n",
      "2023-12-01 00:00:00\n",
      "2024-01-01 00:00:00\n",
      "2024-02-01 00:00:00\n",
      "2024-03-01 00:00:00\n",
      "2024-04-01 00:00:00\n",
      "2024-05-01 00:00:00\n",
      "2024-06-01 00:00:00\n",
      "2024-07-01 00:00:00\n",
      "zero-size array to reduction operation fmin which has no identity\n"
     ]
    },
    {
     "data": {
      "image/png": "[encoded data removed]",
      "text/plain": [
       "<Figure size 640x480 with 1 Axes>"
      ]
     },
     "metadata": {},
     "output_type": "display_data"
    }
   ],
   "source": [
    "start_check = datetime(2022, 1, 1)\n",
    "\n",
    "over = False\n",
    "transac_dict_list = []\n",
    "net_ret = []\n",
    "while start_check <= datetime(2024,12,1):\n",
    "    print(start_check)\n",
    "    end_check = start_check + relativedelta(months=6)\n",
    "    n = len(bank_tickers)\n",
    "    poss_comb_bank = {}\n",
    "    for i in range(n - 1):\n",
    "        for j in range(i + 1, n):\n",
    "            bk_group = bank_tickers[i:j + 1]\n",
    "            try:\n",
    "                res = coint_johansen(df_test[bk_group].loc[start_check:end_check], det_order=1, k_ar_diff=1)\n",
    "            except Exception as e:\n",
    "                print(e)\n",
    "                over = True\n",
    "                break\n",
    "            if res.lr1[0] > res.cvt[0][1] and res.lr2[0] > res.cvm[0][1]:\n",
    "                poss_comb_bank[(i, j + 1)] = res.evec[0]\n",
    "                \n",
    "    bank_ind = list(poss_comb_bank.keys())\n",
    "    \n",
    "    # df_test['temp'] = 0\n",
    "\n",
    "    month_ret = 0\n",
    "\n",
    "    for comb in bank_ind:\n",
    "        coeff_vec = poss_comb_bank[comb]\n",
    "        group = bank_tickers[comb[0] : comb[1]]\n",
    "        # print(comb)\n",
    "        try:\n",
    "            res = backtest(df_test[end_check - relativedelta(days=42): end_check + relativedelta(months=1)][group], coeff_vec, 1, 0, 2)\n",
    "            res[0].loc[end_check: end_check + relativedelta(months = 1)].plot()\n",
    "            # df_test['temp'] += res[0]\n",
    "            month_ret += max(res[0][-1], 0.95) - 1\n",
    "            transac_dict_list.append({'stocks' : group, 'returns': res[0], 'sharpe' : res[1] ,'spread': res[2]})\n",
    "        except Exception as e:\n",
    "            print(e)\n",
    "            over = True \n",
    "            break \n",
    "    \n",
    "    if over:\n",
    "        break\n",
    "    # else:\n",
    "    #     # df_test['temp'] /= len(bank_ind)\n",
    "    #     # df_test['temp'].loc[end_check: end_check + relativedelta(days = 42)].plot()\n",
    "    #     plt.title(f'{end_check} : {end_check + relativedelta(months = 1)}')\n",
    "    #     plt.show()\n",
    "    start_check = start_check + relativedelta(months = 1)\n",
    "    net_ret.append(month_ret)"
   ]
  },
  {
   "cell_type": "code",
   "execution_count": 183,
   "metadata": {},
   "outputs": [
    {
     "name": "stdout",
     "output_type": "stream",
     "text": [
      "No. of profitable positions: 52, avg_profit = 0.05196931326767428\n",
      "No. of loss-making positions: 33, avg_loss = -0.022924199631759897\n",
      "No. of positions with no-change/no trading opportunities: 22\n"
     ]
    }
   ],
   "source": [
    "prof_count = 0\n",
    "prof =0\n",
    "loss_count = 0\n",
    "loss = 0\n",
    "for t in transac_dict_list:\n",
    "    x = t['returns'][-1] - 1\n",
    "    if x > 0:\n",
    "        prof_count += 1\n",
    "        prof += x\n",
    "    elif x < 0:\n",
    "        loss_count += 1\n",
    "        loss += x\n",
    "print(f'No. of profitable positions: {prof_count}, avg_profit = {prof/prof_count}')\n",
    "print(f'No. of loss-making positions: {loss_count}, avg_loss = {loss/loss_count}')\n",
    "print(f'No. of positions with no-change/no trading opportunities: {len(transac_dict_list) - prof_count - loss_count}')"
   ]
  },
  {
   "cell_type": "code",
   "execution_count": 184,
   "metadata": {},
   "outputs": [
    {
     "data": {
      "text/plain": [
       "0.01818603459879426"
      ]
     },
     "execution_count": 184,
     "metadata": {},
     "output_type": "execute_result"
    }
   ],
   "source": [
    "np.sum(net_ret)/len(transac_dict_list)"
   ]
  },
  {
   "cell_type": "code",
   "execution_count": 185,
   "metadata": {},
   "outputs": [
    {
     "data": {
      "text/plain": [
       "1.5355892659560793"
      ]
     },
     "execution_count": 185,
     "metadata": {},
     "output_type": "execute_result"
    }
   ],
   "source": [
    "sum"
   ]
  },
  {
   "cell_type": "code",
   "execution_count": 186,
   "metadata": {},
   "outputs": [],
   "source": [
    "df_train = pd.read_csv('pharma_test.csv', parse_dates=True, index_col='Date')"
   ]
  },
  {
   "cell_type": "code",
   "execution_count": 187,
   "metadata": {},
   "outputs": [],
   "source": [
    "pharma_tickers = [\n",
    "    \"SUNPHARMA.NS\", \"DRREDDY.NS\", \"CIPLA.NS\", \"DIVISLAB.NS\",\n",
    "    \"AUROPHARMA.NS\", \"BIOCON.NS\", \"LUPIN.NS\", \"TORNTPHARM.NS\",\n",
    "    \"ZYDUSLIFE.NS\", \"GLENMARK.NS\"\n",
    "]"
   ]
  },
  {
   "cell_type": "code",
   "execution_count": 188,
   "metadata": {},
   "outputs": [
    {
     "name": "stdout",
     "output_type": "stream",
     "text": [
      "2022-06-01 00:00:00\n",
      "2022-07-01 00:00:00\n",
      "2022-08-01 00:00:00\n",
      "2022-09-01 00:00:00\n",
      "2022-10-01 00:00:00\n",
      "2022-11-01 00:00:00\n",
      "2022-12-01 00:00:00\n",
      "2023-01-01 00:00:00\n",
      "2023-02-01 00:00:00\n",
      "2023-03-01 00:00:00\n",
      "2023-04-01 00:00:00\n",
      "2023-05-01 00:00:00\n",
      "2023-06-01 00:00:00\n",
      "2023-07-01 00:00:00\n",
      "2023-08-01 00:00:00\n",
      "2023-09-01 00:00:00\n",
      "2023-10-01 00:00:00\n",
      "2023-11-01 00:00:00\n",
      "2023-12-01 00:00:00\n",
      "2024-01-01 00:00:00\n",
      "2024-02-01 00:00:00\n",
      "2024-03-01 00:00:00\n",
      "2024-04-01 00:00:00\n",
      "2024-05-01 00:00:00\n",
      "2024-06-01 00:00:00\n",
      "2024-07-01 00:00:00\n",
      "zero-size array to reduction operation fmin which has no identity\n"
     ]
    },
    {
     "data": {
      "image/png": "[encoded data removed]",
      "text/plain": [
       "<Figure size 640x480 with 1 Axes>"
      ]
     },
     "metadata": {},
     "output_type": "display_data"
    }
   ],
   "source": [
    "start_check = datetime(2022, 6, 1)\n",
    "over = False\n",
    "transac_dict_list = []\n",
    "net_ret = []\n",
    "while start_check <= datetime(2024,12,1):\n",
    "    print(start_check)\n",
    "    end_check = start_check + relativedelta(months=6)\n",
    "    n = len(pharma_tickers)\n",
    "    poss_comb_bank = {}\n",
    "    for i in range(n - 1):\n",
    "        for j in range(i + 1, n):\n",
    "            bk_group = pharma_tickers[i:j + 1]\n",
    "            try:\n",
    "                res = coint_johansen(df_train[bk_group].loc[start_check:end_check], det_order=1, k_ar_diff=1)\n",
    "            except Exception as e:\n",
    "                print(e)\n",
    "                over = True\n",
    "                break\n",
    "            if res.lr1[0] > res.cvt[0][1] and res.lr2[0] > res.cvm[0][1]:\n",
    "                poss_comb_bank[(i, j + 1)] = res.evec[0]\n",
    "                \n",
    "    bank_ind = list(poss_comb_bank.keys())\n",
    "    \n",
    "    # df_test['temp'] = 0\n",
    "\n",
    "    month_ret = 0\n",
    "\n",
    "    for comb in bank_ind:\n",
    "        coeff_vec = poss_comb_bank[comb]\n",
    "        group = pharma_tickers[comb[0] : comb[1]]\n",
    "        # print(comb)\n",
    "        try:\n",
    "            res = backtest(df_train[end_check - relativedelta(days=42): end_check + relativedelta(months=1)][group], coeff_vec, 1, 0, 2)\n",
    "            res[0].loc[end_check: end_check + relativedelta(months = 1)].plot()\n",
    "            # df_test['temp'] += res[0]\n",
    "            month_ret += max(res[0][-1], 0.95) - 1\n",
    "            transac_dict_list.append({'stocks' : group, 'returns': res[0], 'sharpe' : res[1] ,'spread': res[2]})\n",
    "        except Exception as e:\n",
    "            print(e)\n",
    "            over = True \n",
    "            break \n",
    "    \n",
    "    if over:\n",
    "        break\n",
    "    # else:\n",
    "    #     # df_test['temp'] /= len(bank_ind)\n",
    "    #     # df_test['temp'].loc[end_check: end_check + relativedelta(days = 42)].plot()\n",
    "    #     plt.title(f'{end_check} : {end_check + relativedelta(months = 1)}')\n",
    "    #     plt.show()\n",
    "    start_check = start_check + relativedelta(months = 1)\n",
    "    net_ret.append(month_ret)\n",
    "    "
   ]
  },
  {
   "cell_type": "code",
   "execution_count": 189,
   "metadata": {},
   "outputs": [
    {
     "name": "stdout",
     "output_type": "stream",
     "text": [
      "No. of profitable positions: 54, avg_profit = 0.06105323929410564\n",
      "No. of loss-making positions: 38, avg_loss = -0.024474845035446113\n",
      "No. of positions with no-change/no trading opportunities: 39\n"
     ]
    }
   ],
   "source": [
    "prof_count = 0\n",
    "prof =0\n",
    "loss_count = 0\n",
    "loss = 0\n",
    "for t in transac_dict_list:\n",
    "    x = t['returns'][-1] - 1\n",
    "    if x > 0:\n",
    "        prof_count += 1\n",
    "        prof += x\n",
    "    elif x < 0:\n",
    "        loss_count += 1\n",
    "        loss += x\n",
    "print(f'No. of profitable positions: {prof_count}, avg_profit = {prof/prof_count}')\n",
    "print(f'No. of loss-making positions: {loss_count}, avg_loss = {loss/loss_count}')\n",
    "print(f'No. of positions with no-change/no trading opportunities: {len(transac_dict_list) - prof_count - loss_count}')"
   ]
  },
  {
   "cell_type": "code",
   "execution_count": 190,
   "metadata": {},
   "outputs": [
    {
     "data": {
      "text/plain": [
       "0.018067410767440856"
      ]
     },
     "execution_count": 190,
     "metadata": {},
     "output_type": "execute_result"
    }
   ],
   "source": [
    "np.sum(net_ret)/len(transac_dict_list)"
   ]
  },
  {
   "cell_type": "code",
   "execution_count": 191,
   "metadata": {},
   "outputs": [
    {
     "name": "stderr",
     "output_type": "stream",
     "text": [
      "[*********************100%***********************]  9 of 9 completed\n"
     ]
    }
   ],
   "source": [
    "start = datetime(2022, 1, 1)\n",
    "end = datetime(2024, 12, 23)\n",
    "\n",
    "it_tickers = [\n",
    "    \"TCS.NS\", \"INFY.NS\", \"WIPRO.NS\", \"HCLTECH.NS\", \"TECHM.NS\",\n",
    "    \"LTIM.NS\", \"COFORGE.NS\", \"MPHASIS.NS\", \"PERSISTENT.NS\"\n",
    "]\n",
    "\n",
    "\n",
    "df = yf.download(it_tickers, start, end)['Close']\n",
    "df.tail()\n",
    "df.index = pd.to_datetime(df.index)"
   ]
  },
  {
   "cell_type": "code",
   "execution_count": 192,
   "metadata": {},
   "outputs": [],
   "source": [
    "df.to_csv('it_train.csv')"
   ]
  },
  {
   "cell_type": "code",
   "execution_count": 193,
   "metadata": {},
   "outputs": [
    {
     "name": "stdout",
     "output_type": "stream",
     "text": [
      "2022-01-01 00:00:00\n",
      "2022-02-01 00:00:00\n",
      "2022-03-01 00:00:00\n",
      "2022-04-01 00:00:00\n",
      "2022-05-01 00:00:00\n",
      "2022-06-01 00:00:00\n",
      "2022-07-01 00:00:00\n",
      "2022-08-01 00:00:00\n",
      "2022-09-01 00:00:00\n",
      "2022-10-01 00:00:00\n",
      "2022-11-01 00:00:00\n",
      "2022-12-01 00:00:00\n",
      "2023-01-01 00:00:00\n",
      "2023-02-01 00:00:00\n",
      "2023-03-01 00:00:00\n",
      "2023-04-01 00:00:00\n",
      "2023-05-01 00:00:00\n",
      "2023-06-01 00:00:00\n",
      "2023-07-01 00:00:00\n",
      "2023-08-01 00:00:00\n",
      "2023-09-01 00:00:00\n",
      "2023-10-01 00:00:00\n",
      "2023-11-01 00:00:00\n",
      "2023-12-01 00:00:00\n",
      "2024-01-01 00:00:00\n",
      "2024-02-01 00:00:00\n",
      "2024-03-01 00:00:00\n",
      "2024-04-01 00:00:00\n",
      "2024-05-01 00:00:00\n",
      "2024-06-01 00:00:00\n",
      "2024-07-01 00:00:00\n",
      "zero-size array to reduction operation fmin which has no identity\n"
     ]
    },
    {
     "data": {
      "image/png": "[encoded data removed]",
      "text/plain": [
       "<Figure size 640x480 with 1 Axes>"
      ]
     },
     "metadata": {},
     "output_type": "display_data"
    }
   ],
   "source": [
    "start_check = datetime(2022, 1, 1)\n",
    "over = False\n",
    "transac_dict_list = []\n",
    "net_ret = []\n",
    "while start_check <= datetime(2024,12,1):\n",
    "    print(start_check)\n",
    "    end_check = start_check + relativedelta(months=6)\n",
    "    n = len(it_tickers)\n",
    "    poss_comb_bank = {}\n",
    "    for i in range(n - 1):\n",
    "        for j in range(i + 1, n):\n",
    "            bk_group = it_tickers[i:j + 1]\n",
    "            try:\n",
    "                res = coint_johansen(df[bk_group].loc[start_check:end_check], det_order=1, k_ar_diff=1)\n",
    "            except Exception as e:\n",
    "                print(e)\n",
    "                over = True\n",
    "                break\n",
    "            if res.lr1[0] > res.cvt[0][1] and res.lr2[0] > res.cvm[0][1]:\n",
    "                poss_comb_bank[(i, j + 1)] = res.evec[0]\n",
    "                \n",
    "    bank_ind = list(poss_comb_bank.keys())\n",
    "    \n",
    "    # df_test['temp'] = 0\n",
    "\n",
    "    month_ret = 0\n",
    "\n",
    "    for comb in bank_ind:\n",
    "        coeff_vec = poss_comb_bank[comb]\n",
    "        group = it_tickers[comb[0] : comb[1]]\n",
    "        # print(comb)\n",
    "        try:\n",
    "            res = backtest(df[end_check - relativedelta(days=42): end_check + relativedelta(months=1)][group], coeff_vec, 1, 0, 2)\n",
    "            res[0].loc[end_check: end_check + relativedelta(months = 1)].plot()\n",
    "            # df_test['temp'] += res[0]\n",
    "            month_ret += max(res[0][-1], 0.95) - 1\n",
    "            transac_dict_list.append({'stocks' : group, 'returns': res[0], 'sharpe' : res[1] ,'spread': res[2]})\n",
    "        except Exception as e:\n",
    "            print(e)\n",
    "            over = True \n",
    "            break \n",
    "    \n",
    "    if over:\n",
    "        break\n",
    "    # else:\n",
    "    #     # df_test['temp'] /= len(bank_ind)\n",
    "    #     # df_test['temp'].loc[end_check: end_check + relativedelta(days = 42)].plot()\n",
    "    #     plt.title(f'{end_check} : {end_check + relativedelta(months = 1)}')\n",
    "    #     plt.show()\n",
    "    start_check = start_check + relativedelta(months = 1)\n",
    "    net_ret.append(month_ret)\n",
    "    "
   ]
  },
  {
   "cell_type": "code",
   "execution_count": 194,
   "metadata": {},
   "outputs": [],
   "source": [
    "sum = 0\n",
    "for i in net_ret:\n",
    "    sum += i"
   ]
  },
  {
   "cell_type": "code",
   "execution_count": 195,
   "metadata": {},
   "outputs": [
    {
     "data": {
      "text/plain": [
       "0.019194865824450985"
      ]
     },
     "execution_count": 195,
     "metadata": {},
     "output_type": "execute_result"
    }
   ],
   "source": [
    "np.sum(net_ret)/len(transac_dict_list)"
   ]
  },
  {
   "cell_type": "code",
   "execution_count": 196,
   "metadata": {},
   "outputs": [],
   "source": [
    "# for t in transac_dict_list:\n",
    "#     if t['returns'][-1] > 1:\n",
    "#         (t['spread']/t['spread'].mean()).plot()\n",
    "#         t['returns'].plot()\n",
    "#         plt.title(f'{t['stocks']}')\n",
    "#         plt.figure()"
   ]
  },
  {
   "cell_type": "code",
   "execution_count": 197,
   "metadata": {},
   "outputs": [
    {
     "name": "stdout",
     "output_type": "stream",
     "text": [
      "No. of profitable positions: 33, avg_profit = 0.06627955649212429\n",
      "No. of loss-making positions: 33, avg_loss = -0.019746548432849165\n",
      "No. of positions with no-change/no trading opportunities: 14\n"
     ]
    }
   ],
   "source": [
    "prof_count = 0\n",
    "prof =0\n",
    "loss_count = 0\n",
    "loss = 0\n",
    "for t in transac_dict_list:\n",
    "    x = t['returns'][-1] - 1\n",
    "    if x > 0:\n",
    "        prof_count += 1\n",
    "        prof += x\n",
    "    elif x < 0:\n",
    "        loss_count += 1\n",
    "        loss += x\n",
    "print(f'No. of profitable positions: {prof_count}, avg_profit = {prof/prof_count}')\n",
    "print(f'No. of loss-making positions: {loss_count}, avg_loss = {loss/loss_count}')\n",
    "print(f'No. of positions with no-change/no trading opportunities: {len(transac_dict_list) - prof_count - loss_count}')"
   ]
  }
 ],
 "metadata": {
  "kernelspec": {
   "display_name": "Python 3",
   "language": "python",
   "name": "python3"
  },
  "language_info": {
   "codemirror_mode": {
    "name": "ipython",
    "version": 3
   },
   "file_extension": ".py",
   "mimetype": "text/x-python",
   "name": "python",
   "nbconvert_exporter": "python",
   "pygments_lexer": "ipython3",
   "version": "3.12.0"
  }
 },
 "nbformat": 4,
 "nbformat_minor": 2
}
